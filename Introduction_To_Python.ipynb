{
  "nbformat": 4,
  "nbformat_minor": 0,
  "metadata": {
    "colab": {
      "name": "Introduction To Python.ipynb",
      "provenance": [],
      "collapsed_sections": []
    },
    "kernelspec": {
      "display_name": "Python 3",
      "language": "python",
      "name": "python3"
    }
  },
  "cells": [
    {
      "metadata": {
        "id": "jiln_AaoKLyM"
      },
      "cell_type": "markdown",
      "source": [
        "# Introduction to Python"
      ]
    },
    {
      "metadata": {
        "id": "iMsKohnVKLyS"
      },
      "cell_type": "markdown",
      "source": [
        "<img src='https://www.python.org/static/community_logos/python-logo-master-v3-TM.png'>"
      ]
    },
    {
      "metadata": {
        "id": "rvN-JpOPKLyV"
      },
      "cell_type": "markdown",
      "source": [
        "### What is Python?\n"
      ]
    },
    {
      "metadata": {
        "id": "a5yPg_lGKLyc"
      },
      "cell_type": "markdown",
      "source": [
        "It is a general-purpose high-level programming language, which means that you can use it for anything: organizing data, scraping the web, creating websites, analyzing sounds, creating games, and of course engineering computations.\n",
        "\n",
        "* It was developed by Guido van Rossum and was released in 1991.\n",
        "* It is 26 year old now!\n",
        "* Python is an interpreted language. This means that you can write Python commands and the computer can execute those instructions directly.\n",
        "* Python is developed under OSI-approved open source license, making it freely usable and distributable, even for commercial use.\n",
        "* Python is to be used interactively, and we will be using IPython (the I stands for \"interactive\")in this short course!"
      ]
    },
    {
      "metadata": {
        "id": "mLcEW_yrKLyd"
      },
      "cell_type": "markdown",
      "source": [
        "### Why use Python?"
      ]
    },
    {
      "metadata": {
        "id": "UKmOT3GiKLyf"
      },
      "cell_type": "markdown",
      "source": [
        "* Because it is _SIMPLE and FUN!_\n",
        "* Python is known as a _high-productivity_ language. As a programmer, you'll need less time to develop a solution with Python than with most languages. \n",
        "* GUIs (Graphical User Interface) - Python's simplicity results in a good match for developing GUIs on the desktop. Python has a built-in library called tkinter (Python 3.X) which allows the programmers to build portable GUIs. \n",
        "* Rapid Prototyping - Python's high-level built-in data structures make it suitable for rapid application development. Most of the libraries required for creating Artifical Intelligence applications are available for Python.\n",
        "* Database Programming - With the available libraries, Python can easily integrate with structures and unstructured databases such as MySQL, PostgreSQL, MongoDB, and more. \n",
        "* Complex Scientific and Numeric Programming with Visualizations - To enhance the capabilities of scripting languages, few libraries such as Numpy, Pandas, Matplotlib, Plotly and more were developed. Python is easily integrated with these libraries, enabling python to perform complex mathematical calculations and calculations with ease.\n",
        "* Deep Learning, Machine Learning, and Natural Language    Processing - Artificial Intelligence has now become an integral part in business. Most of the companies are now adopting this technology to boost their business and maximize profits. Libraries such as Tensorflow, Pytorch, Keras, and more, are important for developing intelligent personalized business trained model. These libraries are compatible with python, making the development much more easier. \n",
        "\n",
        "Well, these are only few examples Why and Where Python can be used! and _SKY IS THE LIMIT!_\n",
        "\n",
        "The top technology companies use Python: Google, Facebook, Dropbox, Wikipedia, Yahoo!, YouTube… And this year, Python took the No. 1 spot in the interactive list of [The 2017 Top Programming Languages](http://spectrum.ieee.org/computing/software/the-2017-top-programming-languages), by _IEEE Spectrum_ ([IEEE](http://www.ieee.org/about/index.html) is the world's largest technical professional society).  "
      ]
    },
    {
      "metadata": {
        "id": "ZkVaR-PYKLyi"
      },
      "cell_type": "markdown",
      "source": [
        "### Who Uses Python?\n"
      ]
    },
    {
      "metadata": {
        "id": "C_5Ifn3XKLyk"
      },
      "cell_type": "markdown",
      "source": [
        "* First time programmers!\n",
        "* Web developers\n",
        "* Data scientists\n",
        "* Business Analysts\n",
        "* Researchers and Academics\n",
        "* Hobbiest!\n",
        "* Machine Learning and AI Engineers\n",
        "\n",
        "\n",
        "_\"If you deal with data in any form ..., Python is the language for you !\"_ -Saqib and Nabin"
      ]
    },
    {
      "metadata": {
        "id": "fPslVf8AKLyp"
      },
      "cell_type": "markdown",
      "source": [
        "### Your first Python Program"
      ]
    },
    {
      "metadata": {
        "id": "f4qxziziKLys"
      },
      "cell_type": "markdown",
      "source": [
        "You are about write the most difficult program in the world! \n",
        "The Hello World! ...\n",
        "\n",
        "Let us print \"Hello World\" message. \n",
        "\n",
        "In Python, you use the print() function, with your message inside quotation marks.\n",
        "\n",
        "Type: _print(\"Hello World!\")_\n",
        "\n",
        "Give it a try...!"
      ]
    },
    {
      "metadata": {
        "id": "yFbfCI4SKLyv",
        "outputId": "a624aaa8-b6bc-431b-a721-c8ec1cca9560"
      },
      "cell_type": "code",
      "source": [
        "print(\"Hello World\")"
      ],
      "execution_count": null,
      "outputs": [
        {
          "output_type": "stream",
          "text": [
            "Hello World\n"
          ],
          "name": "stdout"
        }
      ]
    },
    {
      "metadata": {
        "id": "LgwIpO3AKLy5"
      },
      "cell_type": "markdown",
      "source": [
        "### Congratulations you just wrote your first Python program !"
      ]
    },
    {
      "metadata": {
        "id": "hsndoh2WKLy7"
      },
      "cell_type": "markdown",
      "source": [
        "##### Note: \n",
        "1. _print()_ is a function used display something (e.g. results, messages, instructions etc.) in your console.\n",
        "2. _print()_ is one of the most widely used functions in Python. It is a great _debugging_ tool.\n",
        "3. In the above _Hello World_ example,we passed a String between quotation  marks."
      ]
    },
    {
      "metadata": {
        "id": "wXpRkArpKLy9"
      },
      "cell_type": "markdown",
      "source": [
        "\n",
        "## An introduction to Jupyter notebooks"
      ]
    },
    {
      "metadata": {
        "id": "sdIcsuTHKLy_"
      },
      "cell_type": "markdown",
      "source": [
        "* It is a tool for working interactively with Python.\n",
        "* It is an open-source web application.\n",
        "* It was actually developed for scientists to easily work with Python and data!\n",
        "* Allows to create and share documents that contain live code, equations, visualizations and narrative text.\n",
        "* Want to install Jupyter notebook on your computer? [CLICK ME!](http://opentechschool.github.io/python-data-intro/core/notebook.html)"
      ]
    },
    {
      "metadata": {
        "id": "VeHmVculKLzB"
      },
      "cell_type": "markdown",
      "source": [
        "### Launching Jupyter notebook!"
      ]
    },
    {
      "metadata": {
        "id": "M_Pv3QvUKLzE"
      },
      "cell_type": "markdown",
      "source": [
        "1. _On Windows_: \n",
        "   You have a launcher for Jupyter Notebook under Anaconda in Start Menu.\n",
        "\n",
        "2. _On Linux or OS X_: \n",
        "   Open a terminal and navigate to the directory where you Python files and notebooks are stored. In the terminal window run the following command:    "
      ]
    },
    {
      "metadata": {
        "id": "1AQpO6qgKLzG"
      },
      "cell_type": "raw",
      "source": [
        "jupyter notebook"
      ]
    },
    {
      "metadata": {
        "id": "5oISPPCvKLzK"
      },
      "cell_type": "markdown",
      "source": [
        "Upon successfully exection of the above command, Jupyter notebook interface will be shown on a web browser."
      ]
    },
    {
      "metadata": {
        "id": "YouksoCqKLzN"
      },
      "cell_type": "markdown",
      "source": [
        "\n",
        "\n",
        "## The Print() Function"
      ]
    },
    {
      "metadata": {
        "id": "GI01iLw6KLzR"
      },
      "cell_type": "markdown",
      "source": [
        "1. Used to display information such text messages(Strings), computation results, instructions etc on the console\n",
        "2. It is a very useful tool for _Debugging_ (Locating, removing, and fixing errors and mistakes) code/program.\n",
        "3. _\"Print function\"_ and not \"Print statement\"!\n",
        "4. Print function expects arguments to be surrounded by parenthesis"
      ]
    },
    {
      "metadata": {
        "id": "g1bNzuMTKLzS"
      },
      "cell_type": "markdown",
      "source": [
        "#### Few Examples of Print function usage:"
      ]
    },
    {
      "metadata": {
        "id": "lAB-MJGUKLzU"
      },
      "cell_type": "markdown",
      "source": [
        "##### 1. The Syntax Trick!"
      ]
    },
    {
      "metadata": {
        "id": "EylDQeL_KLzX",
        "outputId": "c37e38ad-22a4-4b83-f547-c55e42a4568a"
      },
      "cell_type": "code",
      "source": [
        "print \"Hello World!\" # print statement, Python 2.x syntax, a common mistake for Python 3.x users!"
      ],
      "execution_count": null,
      "outputs": [
        {
          "output_type": "error",
          "ename": "SyntaxError",
          "evalue": "Missing parentheses in call to 'print'. Did you mean print(\"Hello World!\" # print statement, Python 2.x syntax, a common mistake for Python 3.x users!)? (<ipython-input-2-ce8ef4755258>, line 1)",
          "traceback": [
            "\u001b[1;36m  File \u001b[1;32m\"<ipython-input-2-ce8ef4755258>\"\u001b[1;36m, line \u001b[1;32m1\u001b[0m\n\u001b[1;33m    print \"Hello World!\" # print statement, Python 2.x syntax, a common mistake for Python 3.x users!\u001b[0m\n\u001b[1;37m                       ^\u001b[0m\n\u001b[1;31mSyntaxError\u001b[0m\u001b[1;31m:\u001b[0m Missing parentheses in call to 'print'. Did you mean print(\"Hello World!\" # print statement, Python 2.x syntax, a common mistake for Python 3.x users!)?\n"
          ]
        }
      ]
    },
    {
      "metadata": {
        "id": "1APC5h3sKLzl",
        "outputId": "191937b0-cd62-4189-aecb-73dcbbdf7ad9"
      },
      "cell_type": "code",
      "source": [
        "print (\"Hello World!\") # print function, for Python 3.x users! The correct syntax"
      ],
      "execution_count": null,
      "outputs": [
        {
          "output_type": "stream",
          "text": [
            "Hello World!\n"
          ],
          "name": "stdout"
        }
      ]
    },
    {
      "metadata": {
        "id": "TLZqxqBVKLzt"
      },
      "cell_type": "markdown",
      "source": [
        "##### 2. The standard syntax:"
      ]
    },
    {
      "metadata": {
        "id": "7i9oM1O-KLzv"
      },
      "cell_type": "raw",
      "source": [
        "print(value1, value2, ..., sep=' ', end='\\n', file=sys.stdout, flush=False)"
      ]
    },
    {
      "metadata": {
        "id": "DjuwQHg5KLzx"
      },
      "cell_type": "markdown",
      "source": [
        "Where: \n",
        "1. (value1, value2, ...) --> Values (value1, ...) to be printed, and are comma seperated\n",
        "2. sep=' ' --> delimiter to be used while printing the Values (value1, ...), By _Default_ it is a single space/blank."
      ]
    },
    {
      "metadata": {
        "id": "2aUlbEWMKLzy"
      },
      "cell_type": "markdown",
      "source": [
        "###### Example:"
      ]
    },
    {
      "metadata": {
        "id": "I78v9omnKLzz",
        "outputId": "2f91c817-32dc-43f7-d092-ec86eee97c11"
      },
      "cell_type": "code",
      "source": [
        "print (\"Hello\", \"World\") # two arguments passed to print function, default seperator is used!"
      ],
      "execution_count": null,
      "outputs": [
        {
          "output_type": "stream",
          "text": [
            "Hello World\n"
          ],
          "name": "stdout"
        }
      ]
    },
    {
      "metadata": {
        "id": "kwFt0T05KLz-",
        "outputId": "3b43148f-3a53-4120-dc94-ae85401d37a1"
      },
      "cell_type": "code",
      "source": [
        "print (\"Hello\", \"World\", sep=\"\") # two arguments passed to print function, seperator defined!"
      ],
      "execution_count": null,
      "outputs": [
        {
          "output_type": "stream",
          "text": [
            "HelloWorld\n"
          ],
          "name": "stdout"
        }
      ]
    },
    {
      "metadata": {
        "id": "RNeRWP7lKL0G"
      },
      "cell_type": "markdown",
      "source": [
        "##### Task 1: Print \"Hello\" and \"World\" seperated by a \"+\"\n",
        "Expected output: Hello+World"
      ]
    },
    {
      "metadata": {
        "id": "9Owe_jEsKL0H",
        "outputId": "dc7a322d-5318-4a7c-ad2c-e3a601ca82e4"
      },
      "cell_type": "code",
      "source": [
        "print() #Complete the code and run it!"
      ],
      "execution_count": null,
      "outputs": [
        {
          "output_type": "stream",
          "text": [
            "\n"
          ],
          "name": "stdout"
        }
      ]
    },
    {
      "metadata": {
        "id": "TmyRnY12KL0W"
      },
      "cell_type": "markdown",
      "source": [
        "##### Answer:"
      ]
    },
    {
      "metadata": {
        "id": "ICRIDpq9KL0Y"
      },
      "cell_type": "raw",
      "source": [
        "print(\"Hello\", \"World\", sep=\"+\")"
      ]
    },
    {
      "metadata": {
        "id": "FGdERgOAKL0c"
      },
      "cell_type": "markdown",
      "source": [
        "##### Task 2: Print \"Hello\" and \"World\" seperated by a \"+\" but in the way given below:\n",
        "\n",
        "Expected output: Hello + World\n"
      ]
    },
    {
      "metadata": {
        "id": "wIMf-YavKL0f"
      },
      "cell_type": "code",
      "source": [
        "print() #Complete the code and run it!"
      ],
      "execution_count": null,
      "outputs": []
    },
    {
      "metadata": {
        "id": "R1Qji_rQKL0s"
      },
      "cell_type": "markdown",
      "source": [
        "##### Answer:"
      ]
    },
    {
      "metadata": {
        "id": "u1rMgRv7KL0u"
      },
      "cell_type": "code",
      "source": [
        "print(\"Hello\", \"World\", sep=\" + \")"
      ],
      "execution_count": null,
      "outputs": []
    },
    {
      "metadata": {
        "collapsed": true,
        "id": "957m7Qb6KL01"
      },
      "cell_type": "markdown",
      "source": [
        "#####  Task 3: Print the sum of two number 5 and 6\n",
        "\n",
        "Expected output: 11"
      ]
    },
    {
      "metadata": {
        "id": "n0cvEHACKL04"
      },
      "cell_type": "code",
      "source": [
        ""
      ],
      "execution_count": null,
      "outputs": []
    },
    {
      "metadata": {
        "id": "R9hNRoxYKL0-"
      },
      "cell_type": "markdown",
      "source": [
        "\n",
        "\n",
        "\n",
        "\n",
        "## Super Important about Python!"
      ]
    },
    {
      "metadata": {
        "id": "H7rWulR1KL0_"
      },
      "cell_type": "markdown",
      "source": [
        "Python programs are structured through \"indentation\", which means a code block is defined by its indentation!\n",
        "\n",
        "**It is not a style but a requirement of the Python programming language. **\n",
        "\n",
        "Check an example below:\n",
        "\n",
        "Code Block 1\n",
        "    \n",
        "    Code Block 2\n",
        "    \n",
        "        Code block 3\n",
        "        \n",
        "    Code Block 2 end\n",
        "    \n",
        "Code Block 1 end\n"
      ]
    },
    {
      "cell_type": "markdown",
      "source": [
        ""
      ],
      "metadata": {
        "id": "nWeapJcDIfTi"
      }
    },
    {
      "metadata": {
        "id": "HunykSdXDHd5"
      },
      "cell_type": "markdown",
      "source": [
        "# Basic Operators in Python"
      ]
    },
    {
      "metadata": {
        "id": "8kECvM4gDHd_"
      },
      "cell_type": "markdown",
      "source": [
        "## 1. Comparison Operators\n",
        "\n",
        "Comparison operators, as the name suggests are used to compare values and produces a boolean output which is either True or False.\n",
        "\n",
        "### Comparison Operator Table\n",
        "\n",
        "Assuming that **a = 6** and **b = 10**\n",
        "<table class=\"table table-bordered\">\n",
        "<tr>\n",
        "<th style=\"width:10%\">Operator</th><th style=\"width:45%\">Description</th><th>Example</th>\n",
        "</tr>\n",
        "<tr>\n",
        "<td>==</td>\n",
        "<td>If the values of two operands are equal, then the condition becomes true.</td>\n",
        "<td> (a == b) is not true.</td>\n",
        "</tr>\n",
        "<tr>\n",
        "<td>!=</td>\n",
        "<td>If values of two operands are not equal, then condition becomes true.</td>\n",
        "<td>(a != b) is true</td>\n",
        "</tr>\n",
        "<tr>\n",
        "<td>&gt;</td>\n",
        "<td>If the value of left operand is greater than the value of right operand, then condition becomes true.</td>\n",
        "<td> (a &gt; b) is not true.</td>\n",
        "</tr>\n",
        "<tr>\n",
        "<td>&lt;</td>\n",
        "<td>If the value of left operand is less than the value of right operand, then condition becomes true.</td>\n",
        "<td> (a &lt; b) is true.</td>\n",
        "</tr>\n",
        "<tr>\n",
        "<td>&gt;=</td>\n",
        "<td>If the value of left operand is greater than or equal to the value of right operand, then condition becomes true.</td>\n",
        "<td> (a &gt;= b) is not true. </td>\n",
        "</tr>\n",
        "<tr>\n",
        "<td>&lt;=</td>\n",
        "<td>If the value of left operand is less than or equal to the value of right operand, then condition becomes true.</td>\n",
        "<td> (a &lt;= b) is true. </td>\n",
        "</tr>\n",
        "</table>"
      ]
    },
    {
      "metadata": {
        "id": "3CetyGXhDHeD"
      },
      "cell_type": "markdown",
      "source": [
        "Few Examples for deep understanding"
      ]
    },
    {
      "metadata": {
        "id": "31R9wxACDHeJ"
      },
      "cell_type": "markdown",
      "source": [
        "For **Equal** Operator please type any two numbers that are equal/unequal to each other with **'=='** in between. For Instance **'2==2'**."
      ]
    },
    {
      "metadata": {
        "id": "BpgDFDk-DHeL"
      },
      "cell_type": "code",
      "source": [
        ""
      ],
      "execution_count": null,
      "outputs": []
    },
    {
      "metadata": {
        "id": "7MT6vpRxDHeX"
      },
      "cell_type": "markdown",
      "source": [
        "For **Not Equal** Operator, Please type any two numbers that are equal/unequal to eachother with **\"!=\"** in between. For Instance **'2!=3'**."
      ]
    },
    {
      "metadata": {
        "id": "LmIwYqdADHea"
      },
      "cell_type": "code",
      "source": [
        ""
      ],
      "execution_count": null,
      "outputs": []
    },
    {
      "metadata": {
        "id": "wraQkv4FDHei"
      },
      "cell_type": "markdown",
      "source": [
        "For **Greater Than** Operator, Please type any two numbers that are equal/unequal to each other with **\">\"** in between. For Instance **'2>3'**."
      ]
    },
    {
      "metadata": {
        "id": "6Ru1tybvDHen"
      },
      "cell_type": "code",
      "source": [
        ""
      ],
      "execution_count": null,
      "outputs": []
    },
    {
      "metadata": {
        "id": "E2e2d2RADHew"
      },
      "cell_type": "markdown",
      "source": [
        "For **Less Than** Operator, Please type any two numbers that are equal/unequal to each other with **\"<\"** in between. For Instance **'2<3'**."
      ]
    },
    {
      "metadata": {
        "id": "ESsZ6UdODHey"
      },
      "cell_type": "code",
      "source": [
        ""
      ],
      "execution_count": null,
      "outputs": []
    },
    {
      "metadata": {
        "id": "nbrPIYKYDHe8"
      },
      "cell_type": "markdown",
      "source": [
        "For **Greater Than or Equal to** Operator, Please type any two numbers that are equal/unequal to each other with **\">=\"** in between. For Instance **'2>=3'**."
      ]
    },
    {
      "metadata": {
        "id": "PxYihDNVDHfA"
      },
      "cell_type": "code",
      "source": [
        ""
      ],
      "execution_count": null,
      "outputs": []
    },
    {
      "metadata": {
        "id": "E6OYzlt3DHfL"
      },
      "cell_type": "markdown",
      "source": [
        "For **Less Than or Equal to** Operator, Please type any two numbers that are equal/unequal to each other with **\"<=\"** in between. For Instance **'2<=3'**."
      ]
    },
    {
      "metadata": {
        "id": "gvHlkGlgDHfQ"
      },
      "cell_type": "code",
      "source": [
        ""
      ],
      "execution_count": null,
      "outputs": []
    },
    {
      "metadata": {
        "id": "6EIVdvBDDHfZ"
      },
      "cell_type": "markdown",
      "source": [
        "**Congratulations on Learning Comparison Operators!!!**"
      ]
    },
    {
      "metadata": {
        "id": "4cP86P7lDHfd"
      },
      "cell_type": "markdown",
      "source": [
        "## 2. Logical Operators with Comparison Operators\n",
        "\n",
        "Logical operators uses **and**, **or**, and **not** between comparison operators and individual bits and provides output in the form of Boolean i.e. True/False or 1/0.\n",
        "\n",
        "**I. and operation**\n",
        "\n",
        "Let us refer to a basic swiching circuit!\n",
        "\n",
        "<img src='http://drive.google.com/uc?export=view&id=1_qjbvx8dN2WYS7FlItXy-1vpPKfaK466' alt='OR'> \n",
        "\n",
        "**And Table**\n",
        "<table class=\"table table-bordered\">\n",
        "<tr>\n",
        "<th>Bit-1(A)</th><th>Bit-2(B)</th><th>Output</th>\n",
        "</tr>\n",
        "<tr>\n",
        "<td>0</td>\n",
        "<td>0</td>\n",
        "<td>0/False</td>\n",
        "</tr>\n",
        "<tr>\n",
        "<td>0</td>\n",
        "<td>1</td>\n",
        "<td>0/False</td>\n",
        "</tr>\n",
        "<tr>\n",
        "<td>1</td>\n",
        "<td>0</td>\n",
        "<td>0/False</td>\n",
        "</tr>\n",
        "<tr>\n",
        "<td>1</td>\n",
        "<td>1</td>\n",
        "<td>1/True</td>\n",
        "</tr>\n",
        "</table>"
      ]
    },
    {
      "metadata": {
        "id": "_pPTPp80DHfh"
      },
      "cell_type": "markdown",
      "source": [
        "Please type **\"0 and 1\"** or **\"1 and 1\"** in the Terminal."
      ]
    },
    {
      "metadata": {
        "id": "xtDRa4H5DHfn"
      },
      "cell_type": "code",
      "source": [
        ""
      ],
      "execution_count": null,
      "outputs": []
    },
    {
      "metadata": {
        "id": "KKjXRCfTDHft"
      },
      "cell_type": "markdown",
      "source": [
        "\n",
        "**II. or operation**\n",
        "\n",
        "Let us refer to a basic swiching circuit!\n",
        "\n",
        "<img src='http://drive.google.com/uc?export=view&id=1ik3taHMeE9YPWKsFg4RxQepj0HVT17XA' alt='OR'> \n",
        "\n",
        "**OR Table**\n",
        "<table class=\"table table-bordered\">\n",
        "<tr>\n",
        "<th>Bit-1(A)</th><th>Bit-2(B)</th><th>Output</th>\n",
        "</tr>\n",
        "<tr>\n",
        "<td>0</td>\n",
        "<td>0</td>\n",
        "<td>0/False</td>\n",
        "</tr>\n",
        "<tr>\n",
        "<td>0</td>\n",
        "<td>1</td>\n",
        "<td>1/True</td>\n",
        "</tr>\n",
        "<tr>\n",
        "<td>1</td>\n",
        "<td>1</td>\n",
        "<td>1/True</td>\n",
        "</tr>\n",
        "<tr>\n",
        "<td>1</td>\n",
        "<td>0</td>\n",
        "<td>1/True</td>\n",
        "</tr>\n",
        "</table>"
      ]
    },
    {
      "metadata": {
        "id": "koBpobcxDHfv"
      },
      "cell_type": "markdown",
      "source": [
        "Please type **\"0 or 0\"** or **\"1 or 0\"** in the Terminal."
      ]
    },
    {
      "metadata": {
        "id": "f_FCbqLdDHfx"
      },
      "cell_type": "code",
      "source": [
        ""
      ],
      "execution_count": null,
      "outputs": []
    },
    {
      "metadata": {
        "id": "BSW04CPvDHf4"
      },
      "cell_type": "markdown",
      "source": [
        "\n",
        "**III. not operation**\n",
        "\n",
        "Not or complement operation performs a logical negation!\n",
        "\n",
        "**NOT Table**\n",
        "<table class=\"table table-bordered\">\n",
        "<tr>\n",
        "<th>Bit-1</th><th>Output</th>\n",
        "</tr>\n",
        "<tr>\n",
        "<td>0</td>\n",
        "<td>1/True</td>\n",
        "</tr>\n",
        "<tr>\n",
        "<td>1</td>\n",
        "<td>0/False</td>\n",
        "</tr>\n",
        "</table>"
      ]
    },
    {
      "metadata": {
        "id": "NgZBnSM0DHf7"
      },
      "cell_type": "markdown",
      "source": [
        "Please type **\"not 0\"** or **\"not 1\"** in the Terminal."
      ]
    },
    {
      "metadata": {
        "id": "E2u2wMPDDHf9"
      },
      "cell_type": "code",
      "source": [
        ""
      ],
      "execution_count": null,
      "outputs": []
    },
    {
      "metadata": {
        "id": "pqgMmZrCDHgE"
      },
      "cell_type": "markdown",
      "source": [
        "## 3. Chained Comparison Operators\n",
        "\n",
        "Now that we have seen what Logical Operators are, Let us work on few examples on chained comparison operators. This simply means combining Logical Operators with comparison operators. "
      ]
    },
    {
      "metadata": {
        "id": "oovz7bOhDHgG"
      },
      "cell_type": "markdown",
      "source": [
        "Examples 1: Please type **2>3 and 4<3** in the Terminal."
      ]
    },
    {
      "metadata": {
        "id": "-6R79JZbDHgK"
      },
      "cell_type": "code",
      "source": [
        ""
      ],
      "execution_count": null,
      "outputs": []
    },
    {
      "metadata": {
        "id": "IrUq3JTNDHgN"
      },
      "cell_type": "markdown",
      "source": [
        "Example 2: Please type **2>=1 or 5<3** in the Terminal."
      ]
    },
    {
      "metadata": {
        "id": "bS75mOkbDHgP"
      },
      "cell_type": "code",
      "source": [
        ""
      ],
      "execution_count": null,
      "outputs": []
    },
    {
      "metadata": {
        "id": "-5Ux2pQuDHgZ"
      },
      "cell_type": "markdown",
      "source": [
        "Example 3: Please type **2==1 or 3==3** in the Terminal."
      ]
    },
    {
      "metadata": {
        "id": "TTalFcW7DHgd"
      },
      "cell_type": "code",
      "source": [
        ""
      ],
      "execution_count": null,
      "outputs": []
    },
    {
      "metadata": {
        "id": "k_hmtQEFDHgh"
      },
      "cell_type": "markdown",
      "source": [
        "Example 4: Please type **not (3>1 and 4<2)** in the Terminal."
      ]
    },
    {
      "metadata": {
        "id": "AmN9j9ohDHgk"
      },
      "cell_type": "code",
      "source": [
        ""
      ],
      "execution_count": null,
      "outputs": []
    },
    {
      "metadata": {
        "id": "l8BzAYhHDHgw"
      },
      "cell_type": "markdown",
      "source": [
        "### References\n",
        "\n",
        "1. _Python for Everybody: Exploring Data Using Python 3_ (2016). Charles R. Severance. [PDF available](http://do1.dr-chuck.com/pythonlearn/EN_us/pythonlearn.pdf)\n",
        "2. https://www.tutorialspoint.com/python/python_basic_operators.htm"
      ]
    },
    {
      "metadata": {
        "id": "IIpwguh3DHgy"
      },
      "cell_type": "markdown",
      "source": [
        "## Quiz time!\n",
        "\n",
        "1. A = 40, B = 40; What is output of the following?\n",
        "<br/>    a. A <= B?\n",
        "<br/>    b. A >= B?\n",
        "<br/>   \n",
        "<br/>\n",
        "2. What is the output of (1 and 1) or (0 or 0)?\n",
        "<br/>\n",
        "<br/>\n",
        "3. What is the output of (not 0) or (not 1) ?"
      ]
    },
    {
      "cell_type": "markdown",
      "source": [
        ""
      ],
      "metadata": {
        "id": "6ojW86EcIhS2"
      }
    },
    {
      "metadata": {
        "id": "lwsH2CKJEaxV"
      },
      "cell_type": "markdown",
      "source": [
        "# Python Conditional Statements "
      ]
    },
    {
      "metadata": {
        "id": "7q94nQAaEaxZ"
      },
      "cell_type": "markdown",
      "source": [
        "If, elif, and else are one of the most important keywords utilised in programming for decision making. These statements are also abundantly used on daily basis. Let us take an example, If we are going for the grocery shopping. Should we choose to walk or take the car? Which Apple should we buy, Red or Green?. All these questions are similar in terms of the decision making aspect. That is to make a decision based on If, elif statements. Shown Below is the Flow Chart for making Decision."
      ]
    },
    {
      "metadata": {
        "id": "FFn8bKb0Eaxc"
      },
      "cell_type": "markdown",
      "source": [
        "<img src='http://drive.google.com/uc?export=view&id=1aap65KmVHSip_lAP2I8xuan7yq-wA9Ye' alt='IFElse'>"
      ]
    },
    {
      "metadata": {
        "id": "OeZ18MKWEaxj"
      },
      "cell_type": "markdown",
      "source": [
        "Syntax for if, elif, else statement. Suppose **a=4** and **b=3**\n",
        "\n",
        "### if a>b:\n",
        "\n",
        "&nbsp;&nbsp;&nbsp;&nbsp;print(\"a is larger than b\")\n",
        "<br>\n",
        "### elif a<b:\n",
        "\n",
        "&nbsp;&nbsp;&nbsp;&nbsp;print(\"a is smaller than b\")\n",
        "### else:\n",
        "&nbsp;&nbsp;&nbsp;&nbsp;&nbsp;print(\"a is equal to b\")"
      ]
    },
    {
      "metadata": {
        "id": "uDEiHb6FEaxm"
      },
      "cell_type": "markdown",
      "source": [
        "Let us write our first code as shown above.\n",
        "Please write **a = 4** in the Terminal."
      ]
    },
    {
      "metadata": {
        "id": "jozM4zzIEaxo"
      },
      "cell_type": "code",
      "source": [
        ""
      ],
      "execution_count": null,
      "outputs": []
    },
    {
      "metadata": {
        "id": "n5qjEOI2Eaxy"
      },
      "cell_type": "markdown",
      "source": [
        "Please write **b = 3** in the Terminal."
      ]
    },
    {
      "metadata": {
        "id": "MRNw8CrMEax1"
      },
      "cell_type": "code",
      "source": [
        ""
      ],
      "execution_count": null,
      "outputs": []
    },
    {
      "metadata": {
        "id": "Hy0-LOj1Eax8"
      },
      "cell_type": "markdown",
      "source": [
        "Steps for Writing the Code.\n",
        "1. Please write **if a > b :** and Press Enter. This will automatically take you to next line with some space. Do not Worry this space is called **Indentation**. \n",
        "2. Now type **print (\" a is greater than b\")**.\n",
        "3. Press Enter. This will take you to next line. If you are starting with some space on the next line. Press Backspace on the keyboard. Pressing Backspace will bring the pointer out of the **if** statement. Then you can start with **elif** statement.\n",
        "4. Now write **elif a < b :** and Press Enter. Again this should automatically take you to next line with some space.\n",
        "5. Now type **print (\"a is smaller than b\")**.\n",
        "6. Again Press Enter and press Backspace.\n",
        "7. Now Write **else:** and Press enter.\n",
        "8. Type **print (\"a is equal to b\")**. "
      ]
    },
    {
      "metadata": {
        "id": "7FlG-UYyEax-"
      },
      "cell_type": "code",
      "source": [
        ""
      ],
      "execution_count": null,
      "outputs": []
    },
    {
      "metadata": {
        "id": "CDGD5872EayG"
      },
      "cell_type": "markdown",
      "source": [
        "#### Task: Write few lines of code to check if a number is odd or even!"
      ]
    },
    {
      "metadata": {
        "id": "8aBGwF-oEayI"
      },
      "cell_type": "code",
      "source": [
        "# Create a variable and assign a value\n",
        "a = 1"
      ],
      "execution_count": null,
      "outputs": []
    },
    {
      "metadata": {
        "scrolled": true,
        "id": "pB3QjJ8QEayR",
        "outputId": "6d08cf77-650b-4247-ea05-3ea18402bd84"
      },
      "cell_type": "code",
      "source": [
        "# Check if the number of odd and print \"It is an odd number\" if true\n",
        "\n",
        "if a%2 != 0:\n",
        "    print (\"It is an odd number!\")"
      ],
      "execution_count": null,
      "outputs": [
        {
          "output_type": "stream",
          "text": [
            "It is an odd number!\n"
          ],
          "name": "stdout"
        }
      ]
    },
    {
      "metadata": {
        "id": "-TuHVH2AEayb"
      },
      "cell_type": "code",
      "source": [
        "# Check if the number is even and print \"It is an even number\" if false\n",
        "if a%2 ==0:\n",
        "    print (\"It is an even number!\")"
      ],
      "execution_count": null,
      "outputs": []
    },
    {
      "metadata": {
        "id": "DRtGr9a3Eayi"
      },
      "cell_type": "code",
      "source": [
        "# Improve the above code using if - else block\n",
        "    "
      ],
      "execution_count": null,
      "outputs": []
    },
    {
      "metadata": {
        "id": "-D9jmhEFEayq"
      },
      "cell_type": "markdown",
      "source": [
        "### References\n",
        "\n",
        "1. _Python for Everybody: Exploring Data Using Python 3_ (2016). Charles R. Severance. [PDF available](http://do1.dr-chuck.com/pythonlearn/EN_us/pythonlearn.pdf)\n",
        "2. https://www.tutorialspoint.com/python/python_decision_making.htm"
      ]
    },
    {
      "metadata": {
        "id": "rpIqHVIxEays"
      },
      "cell_type": "markdown",
      "source": [
        "## Congratulations you have written your first conditional Statement Program. "
      ]
    },
    {
      "cell_type": "markdown",
      "source": [
        ""
      ],
      "metadata": {
        "id": "16P1DJlnIqO3"
      }
    },
    {
      "metadata": {
        "id": "VzOtAnI5Gpd9"
      },
      "cell_type": "markdown",
      "source": [
        "# Loops \n",
        "\n",
        "\n",
        "In programming, generally the statements in the program are executed sequentially in a function. However, there might be situations where we would like to execute particular operations multiple times. This is when we need loops!\n",
        "<br>\n",
        "<br>\n",
        "A loop statement helps to execute a single statement or a group of statements multiple times. \n",
        "<br>\n",
        "<br>\n",
        "Below is the flowchart of a simple loop. The execution sequence is:\n",
        "\n",
        "1. The program first execute and moves to the condition.\n",
        "2. If condition is true, then executes the Conditional code \n",
        "3. Repeats executing the Conditional code until the condition becomes false. "
      ]
    },
    {
      "metadata": {
        "id": "ya6GYTIAGpeC"
      },
      "cell_type": "markdown",
      "source": [
        "<img src='http://drive.google.com/uc?export=view&id=1yeFP8V9N27lwdSCl5rfhyBuq7U3ER2my' alt='Loop'>"
      ]
    },
    {
      "metadata": {
        "id": "09LrPJ3dGpeE"
      },
      "cell_type": "markdown",
      "source": [
        "There are two types of loops in python.\n",
        "1. for Loops\n",
        "2. while Loops\n"
      ]
    },
    {
      "metadata": {
        "id": "qB_wv3lYGpeJ"
      },
      "cell_type": "markdown",
      "source": [
        "## I. `for` Loops "
      ]
    },
    {
      "metadata": {
        "id": "rUnRvVvBGpeL"
      },
      "cell_type": "markdown",
      "source": [
        " `for` loop has the ability to work as an interator in the python. It iterates for multiple times through items that are in sequence. We can iterate in number of objects such as strings, lists, tuples, and dictionaries.\n",
        "<br>\n",
        "<br>\n",
        "Format for `for` statement:\n",
        "<br>\n",
        "<br>\n",
        "&nbsp;&nbsp;&nbsp;&nbsp;for interating_var in sequence/object:\n",
        "<br>\n",
        "&nbsp;&nbsp;&nbsp;&nbsp;&nbsp;&nbsp;&nbsp;&nbsp;statements (s)\n",
        "<br>\n",
        "<br>\n",
        "Here, interating_var is used for the variable name that one wants to interate, could be anything as wanted by programmer."
      ]
    },
    {
      "metadata": {
        "id": "-iRb34Q-GpeM"
      },
      "cell_type": "markdown",
      "source": [
        "### Example 1: Listing all the data in my_list "
      ]
    },
    {
      "metadata": {
        "id": "qBj3Lz63GpeO"
      },
      "cell_type": "markdown",
      "source": [
        "Please type **my_list = [1,2,3,4,5,6,7,8,9,10]** in the terminal."
      ]
    },
    {
      "metadata": {
        "id": "3UFP2NIIGpeR"
      },
      "cell_type": "code",
      "source": [
        "my_list = [1,2,3,4,5,6,7,8,9,10]"
      ],
      "execution_count": null,
      "outputs": []
    },
    {
      "metadata": {
        "id": "DQhRkqKOGpeW"
      },
      "cell_type": "markdown",
      "source": [
        "Steps to write **`for`** loop program:\n",
        "1. Please type **for x in my_list:** in the terminal and press Enter. This will take you to next line with some space. \n",
        "2. Now write print(x) and Press Shift+Enter. This will execute the program."
      ]
    },
    {
      "metadata": {
        "id": "RTWGAvAbGpeZ"
      },
      "cell_type": "code",
      "source": [
        ""
      ],
      "execution_count": null,
      "outputs": []
    },
    {
      "metadata": {
        "id": "Q7kqoAKfGpef"
      },
      "cell_type": "markdown",
      "source": [
        "## Congratulations You have written your first `for` loop program. "
      ]
    },
    {
      "metadata": {
        "id": "dJ5cWxBiGpei"
      },
      "cell_type": "markdown",
      "source": [
        "### Example 2: Finding whether a number is Odd or Even in my_list"
      ]
    },
    {
      "metadata": {
        "id": "knRMiGHuGpek"
      },
      "cell_type": "markdown",
      "source": [
        "Steps to write this program:\n",
        "1. Please type **for x in my_list:** in the terminal and press Enter.\n",
        "2. Now write **if x % 2 == 0:** in the terminal and press Enter. This essentially means to check each number if the remainder is zero or not when a number is divided by 2.\n",
        "3. Type **print(\"{} is an even number\".format(x))** and press Enter. This will take you to next line. However, this time we want to come out of If statement, so we press backspace.\n",
        "4. Type **else:** in the terminal and press Enter.\n",
        "5. Type **print(\"{} is an odd number\". format(x))** and press Shift+Enter. "
      ]
    },
    {
      "metadata": {
        "id": "RW1_A0GoGpek",
        "outputId": "12ca9a65-55e4-480a-b99d-e48889b7644c"
      },
      "cell_type": "code",
      "source": [
        "for x in my_list:\n",
        "    if x%2 ==0:\n",
        "        print(\"{} is an even number\".format(x))\n",
        "    else:\n",
        "        print(\"{} is an odd number\". format(x))"
      ],
      "execution_count": null,
      "outputs": [
        {
          "output_type": "stream",
          "text": [
            "1 is an odd number\n",
            "2 is an even number\n",
            "3 is an odd number\n",
            "4 is an even number\n",
            "5 is an odd number\n",
            "6 is an even number\n",
            "7 is an odd number\n",
            "8 is an even number\n",
            "9 is an odd number\n",
            "10 is an even number\n"
          ],
          "name": "stdout"
        }
      ]
    },
    {
      "metadata": {
        "id": "pwdGUch4Gpeu"
      },
      "cell_type": "markdown",
      "source": [
        "### Example 3: Summation of Numbers in my_list\n",
        "Steps to write this program:\n",
        "1. First initialize **sum=0** in the terminal.\n",
        "2. Write **for x in my_list:** in the terminal and press Enter. \n",
        "3. Write **sum = sum+x** in the terminal and press Enter. This will bring you to the next line. However, this time we want to get out of the loop to print the total sum, hence press backspace.\n",
        "4. Now type **print(sum)** in the terminal and press Shift+Enter."
      ]
    },
    {
      "metadata": {
        "id": "v6-zwAQaGpev"
      },
      "cell_type": "code",
      "source": [
        ""
      ],
      "execution_count": null,
      "outputs": []
    },
    {
      "metadata": {
        "id": "1vTfjoVuGpe1"
      },
      "cell_type": "markdown",
      "source": [
        "### Example 4:  Program to print all the characters in the string.\n",
        "Steps to write the program:\n",
        "1. Type **for letter in 'I love programming.'\"** in the Terminal and press Enter.\n",
        "2. Type **print(letter)** in the Terminal and press Shift+Enter."
      ]
    },
    {
      "metadata": {
        "id": "pQYxvQ7jGpe3",
        "outputId": "662fa010-584a-4a92-fa25-bc17caa3324e"
      },
      "cell_type": "code",
      "source": [
        "for letter in 'I love programming.':\n",
        "    print(letter)"
      ],
      "execution_count": null,
      "outputs": [
        {
          "output_type": "stream",
          "text": [
            "I\n",
            " \n",
            "l\n",
            "o\n",
            "v\n",
            "e\n",
            " \n",
            "p\n",
            "r\n",
            "o\n",
            "g\n",
            "r\n",
            "a\n",
            "m\n",
            "m\n",
            "i\n",
            "n\n",
            "g\n",
            ".\n"
          ],
          "name": "stdout"
        }
      ]
    },
    {
      "metadata": {
        "id": "MZWFwnWBGpfC"
      },
      "cell_type": "markdown",
      "source": [
        "### Example 5: Program to print the dictionary.\n",
        "Steps to write the program:\n",
        "1. First Make a dictionary. Type **my_dict = {'LOL':'Laugh Out Loud', 'BTW': 'By The Way', 'ASAP': 'As Soon As Possible'}** in the Terminal and press Shift+i.\n",
        "2. Now type **for x in my_dict.items():** in the Terminal and press Enter.\n",
        "3. Type **print(x)** in the Terminal and press Shift+i. This will print out both the **keys** and **Values**.\n",
        "4. Type **for x,v in my_dict.items():** in the Terminal and press Enter. \n",
        "5. Type **print(v)** in the Terminal and press Shift+i. This will print out the **Values** of the dictionary.\n",
        "6. Type **for x,v in my_dict.items():** in the Terminal and press Enter. \n",
        "7. Type **print(x)** in the Terminal and press Shift+i. This will print out the **Keys** of the dictionary."
      ]
    },
    {
      "metadata": {
        "id": "M-sO5QvIGpfE"
      },
      "cell_type": "code",
      "source": [
        "my_dict = {'LOL':'Laugh Out Loud', 'BTW': 'By The Way', 'ASAP': 'As Soon As Possible'} "
      ],
      "execution_count": null,
      "outputs": []
    },
    {
      "metadata": {
        "scrolled": true,
        "id": "rEVlhTe6GpfJ",
        "outputId": "34a25c9f-0255-4935-a909-d0cc3a020aa9"
      },
      "cell_type": "code",
      "source": [
        "for x in my_dict.items():\n",
        "    print(x)"
      ],
      "execution_count": null,
      "outputs": [
        {
          "output_type": "stream",
          "text": [
            "('BTW', 'By The Way')\n",
            "('LOL', 'Laugh Out Loud')\n",
            "('ASAP', 'As Soon As Possible')\n"
          ],
          "name": "stdout"
        }
      ]
    },
    {
      "metadata": {
        "id": "PPRVj17uGpfQ",
        "outputId": "9a6d3844-d591-4f8f-93a2-b8007c21411d"
      },
      "cell_type": "code",
      "source": [
        "for x,v in my_dict.items():\n",
        "    print(v)"
      ],
      "execution_count": null,
      "outputs": [
        {
          "output_type": "stream",
          "text": [
            "By The Way\n",
            "Laugh Out Loud\n",
            "As Soon As Possible\n"
          ],
          "name": "stdout"
        }
      ]
    },
    {
      "metadata": {
        "id": "BoapF3X5GpfZ",
        "outputId": "b441afd8-e3ba-4631-ddd4-437ca20a9800"
      },
      "cell_type": "code",
      "source": [
        "for x,v in my_dict.items():\n",
        "    print(x)"
      ],
      "execution_count": null,
      "outputs": [
        {
          "output_type": "stream",
          "text": [
            "BTW\n",
            "LOL\n",
            "ASAP\n"
          ],
          "name": "stdout"
        }
      ]
    },
    {
      "metadata": {
        "id": "cvy2hp9_Gpff"
      },
      "cell_type": "markdown",
      "source": [
        "## Congratulations you have learnt the `for` Loop. "
      ]
    },
    {
      "metadata": {
        "id": "qJbkWYj5Gpfg"
      },
      "cell_type": "markdown",
      "source": [
        "## II. `while` Loop "
      ]
    },
    {
      "metadata": {
        "id": "6m3P0aslGpfh"
      },
      "cell_type": "markdown",
      "source": [
        "`while` Loop is similar to `for` loop. However, instead of automatically iterating through list. In `while` loop we use manual iterators. We have much for control to the output. \n",
        "<br>\n",
        "<br>\n",
        "Format of a while loop:\n",
        "<br>\n",
        "<br>\n",
        "&nbsp;&nbsp;&nbsp;&nbsp; while test:\n",
        "<br>\n",
        "&nbsp;&nbsp;&nbsp;&nbsp;&nbsp;&nbsp;&nbsp;&nbsp; code statements\n",
        "<br>\n",
        "&nbsp;&nbsp;&nbsp;&nbsp; else:\n",
        "<br>\n",
        "&nbsp;&nbsp;&nbsp;&nbsp;&nbsp;&nbsp;&nbsp;&nbsp;final code statements"
      ]
    },
    {
      "metadata": {
        "id": "T6nP_n0rGpfj"
      },
      "cell_type": "markdown",
      "source": [
        "### Example 1: Listing out all the number from 0 to 10\n",
        "Steps for writing the code:\n",
        "1. Write **i = 0** in the terminal and press Shift+Enter.\n",
        "2. Write **while i<10:** in the terminal and press Enter.\n",
        "3. Write **print('i is : {}'.format(i))** in the terminal and press enter.\n",
        "4. Write **i = i+1** in the terminal and press Shift+Enter."
      ]
    },
    {
      "metadata": {
        "id": "Mg8ZlAa6Gpfk"
      },
      "cell_type": "code",
      "source": [
        "i = 0"
      ],
      "execution_count": null,
      "outputs": []
    },
    {
      "metadata": {
        "id": "np4u6G7IGpft",
        "outputId": "1744f2f9-78b6-4fe3-eb55-63f92aa1623d"
      },
      "cell_type": "code",
      "source": [
        "while i<10:\n",
        "    print('i is : {}'.format(i))\n",
        "    i = i+1"
      ],
      "execution_count": null,
      "outputs": [
        {
          "output_type": "stream",
          "text": [
            "i is : 0\n",
            "i is : 1\n",
            "i is : 2\n",
            "i is : 3\n",
            "i is : 4\n",
            "i is : 5\n",
            "i is : 6\n",
            "i is : 7\n",
            "i is : 8\n",
            "i is : 9\n"
          ],
          "name": "stdout"
        }
      ]
    },
    {
      "metadata": {
        "id": "XjPyqrg6Gpf2"
      },
      "cell_type": "markdown",
      "source": [
        "## Congratulations you have written your  first `while` loop program."
      ]
    },
    {
      "metadata": {
        "id": "GO1z5MKXGpf7"
      },
      "cell_type": "markdown",
      "source": [
        "### Example 2: Program for Testing `if, elif, and else` in the `while` loop.\n",
        "Steps for writing this program:\n",
        "1. Initilize **i=0**, Press Shift+Enter.\n",
        "2. Type **while i < 10:** in the Terminal and press Enter.\n",
        "3. Type **if (i < 6):** in the Terminal and press Enter.\n",
        "4. Type **print(\"i is less than 6\")** in the Terminal and press Enter and then backspace.\n",
        "5. Type **elif (i == 6):** in the Terminal and press Enter.\n",
        "6. Type **print(\"i is equal to 6 so I am coming out of the loop\")** in the Terminal and press Enter.\n",
        "7. Type **break** in the Terminal and press Enter and then Backspace.\n",
        "8. Type **else:** in the Terminal and press Enter.\n",
        "9. Type **print(\"i is greater than 6\")** in the Terminal and press Enter and then backspace.\n",
        "10. Type **i = i+1** in the Terminal and press Shift+Enter."
      ]
    },
    {
      "metadata": {
        "id": "mfyP1ZUcGpf9"
      },
      "cell_type": "code",
      "source": [
        "i = 0"
      ],
      "execution_count": null,
      "outputs": []
    },
    {
      "metadata": {
        "id": "3uqna2QFGpgC",
        "outputId": "94f908d6-0a54-48ed-88b3-f597768fe741"
      },
      "cell_type": "code",
      "source": [
        "while i<10:\n",
        "    if (i<6):\n",
        "        print(\"i is less than 6\")\n",
        "    elif (i==6):\n",
        "        print(\"i is equal to 6 so I am coming out of the loop\")\n",
        "        break\n",
        "    else:\n",
        "        print(\"i is greater than 6\")\n",
        "    i = i+1        "
      ],
      "execution_count": null,
      "outputs": [
        {
          "output_type": "stream",
          "text": [
            "i is less than 6\n",
            "i is less than 6\n",
            "i is less than 6\n",
            "i is less than 6\n",
            "i is less than 6\n",
            "i is less than 6\n",
            "i is equal to 6 so I am coming out of the loop\n"
          ],
          "name": "stdout"
        }
      ]
    },
    {
      "metadata": {
        "id": "nHU_TkQ0GpgL"
      },
      "cell_type": "markdown",
      "source": [
        "### Example 3: The Infinite Loop\n",
        "Steps to write infinite loop.\n",
        "1. Type **while True:** in the Terminal and press Enter.\n",
        "2. Type **print(\"Oh no! I am now in infinite loop. How can I get Back? Press the Stop button/Interrupt the Kernal at the Top to restart the Kernel\")** in the Terminal and press Shift+i."
      ]
    },
    {
      "metadata": {
        "id": "4VcizhRRGpia"
      },
      "cell_type": "markdown",
      "source": [
        "\n",
        "\n",
        "### Controlling Loops"
      ]
    },
    {
      "metadata": {
        "id": "ivYeNOJrGpib"
      },
      "cell_type": "markdown",
      "source": [
        "\n",
        "\n",
        "<table class=\"table table-bordered\">\n",
        "<tr>\n",
        "<th style=\"width:10%\">Control statement</th><th style=\"width:45%\">Description</th>\n",
        "</tr>\n",
        "<tr>\n",
        "<td>break</td>\n",
        "<td>Stops the loop execution and transfer the control to the statement outside the current loop.</td>\n",
        "</tr>\n",
        "<tr>\n",
        "<td>continue</td>\n",
        "<td>Skips the code after the continue statement in the same block and resume the loop execution from next iteration.</td>\n",
        "</tr>\n",
        "</table>"
      ]
    },
    {
      "metadata": {
        "id": "SDdzhXK1Gpid"
      },
      "cell_type": "markdown",
      "source": [
        "\n",
        "\n",
        "### References\n",
        "\n",
        "1. _Python for Everybody: Exploring Data Using Python 3_ (2016). Charles R. Severance. [PDF available](http://do1.dr-chuck.com/pythonlearn/EN_us/pythonlearn.pdf)\n",
        "2. https://www.tutorialspoint.com/python/python_loops.htm"
      ]
    },
    {
      "metadata": {
        "id": "AS_JOJaXGpid"
      },
      "cell_type": "markdown",
      "source": [
        "## Quiz time!\n",
        "\n",
        "1. When can we use for loop?\n",
        "<br/>\n",
        "2. When can we use while loop?"
      ]
    },
    {
      "cell_type": "markdown",
      "source": [
        ""
      ],
      "metadata": {
        "id": "zl3ZHwSAJJpE"
      }
    },
    {
      "metadata": {
        "id": "OKOOU8KhJcw7"
      },
      "cell_type": "markdown",
      "source": [
        "# Functions and Methods"
      ]
    },
    {
      "metadata": {
        "id": "ljSD2q9FJcw_"
      },
      "cell_type": "markdown",
      "source": [
        "## Introduction to Functions"
      ]
    },
    {
      "metadata": {
        "id": "MMElbrO_JcxB"
      },
      "cell_type": "markdown",
      "source": [
        "This session will discuss about the functions and methods in python. A Function is a reusable named sequence of statements which can be run more than once.\n",
        "**So why a function is important and advantageous?**\n",
        "\n",
        "    1) Function makes program easier to read, understand, and debug. \n",
        "    2) Functions can make a program smaller by eliminating repetitive code. Later, if you make a change, \n",
        "       you only have to make it in one place.\n",
        "    3) Dividing a long program into a small function allows to debug only specific parts of the code and\n",
        "       then assemble them into a working whole.\n",
        "    4) Well-designed functions are often useful for many programs. Once you write and debug one program, \n",
        "       you can reuse the function repetitively."
      ]
    },
    {
      "metadata": {
        "id": "8xpnkFTNJcxG"
      },
      "cell_type": "markdown",
      "source": [
        "As you have seen in the previous notebooks on strings and lists, we have used built-in function **'len()'** which find the length of the string. To avoid writing a code repetitively for common tasks such as checking the length of the string, a function is provided by standard library of python. \n",
        " Later, you can “call” the function by name. We have already seen one example of a function call:\n",
        "```python\n",
        "   >>> type(32)\n",
        "   <class 'int'>\n",
        "```"
      ]
    },
    {
      "metadata": {
        "id": "iEdpARvXJcxK"
      },
      "cell_type": "markdown",
      "source": [
        "The name of the function is type. The expression in parentheses is called the **argument** of the function. The argument is a value or a variable that we are passing into the function as an input. The result for the type function is the type of the argument. It is common to say that a function “takes” an argument and “returns” a result.\n",
        "\n",
        "The result is called the **return value**."
      ]
    },
    {
      "metadata": {
        "id": "BEpz7it9JcxM"
      },
      "cell_type": "markdown",
      "source": [
        "This session will consist of explaining what a function is and how it is created. Functions will be one of our main building blocks when we construct larger and larger amounts of code to solve the problems.\n",
        "\n",
        "The outline of this notebook is given below\n",
        "    \n",
        "    1) Use def to define the function with distinct parameters through various examples. \n",
        "    2) Use return Statements to return values from the functions with examples.\n",
        "    3) How to use a function in determining whether a number is prime or not.\n",
        "    4) Methods\n",
        "    5) Activities"
      ]
    },
    {
      "metadata": {
        "id": "bdsjCNXSJcxQ"
      },
      "cell_type": "markdown",
      "source": [
        "## 1. def Statements\n",
        "\n",
        "A basic function is written as follows.\n"
      ]
    },
    {
      "metadata": {
        "id": "nKy_xgX-JcxR"
      },
      "cell_type": "code",
      "source": [
        "def name_of_function(arg1,arg2):\n",
        "    '''\n",
        "    Docstring is written here which describes the function.\n",
        "    '''\n",
        "    # Program here\n",
        "    addition = arg1 + arg2\n",
        "    # Return desired result\n",
        "    return(addition)"
      ],
      "execution_count": null,
      "outputs": []
    },
    {
      "metadata": {
        "id": "NorUXfI4JcxZ"
      },
      "cell_type": "markdown",
      "source": [
        "- Function is defined by keyword 'def' followed by space and name of the function. The name of the function should be relevant and meaningful. The name of the function should not be similar to the ones defined in the standard python library. The built-in functions and their usage can be seen at the following link [built-in function in Python](https://docs.python.org/2/library/functions.html).\n",
        "\n",
        "- The name of the function is followed by a pair of parenthesis with a number of arguments in between separated by a comma. These arguments are the inputs for your function and they may be optional. The function header is concluded by a colon `(:)`.\n",
        "\n",
        "- After function header, docstring which describe the functionality of a function, the number of arguments (optional & mandatory), and the return of values. These descriptions act like a documentation for the function without having to go through all the code. Docstrings are not necessary for a simple function but they are recommended practice for readibility of the code.\n",
        "\n",
        "Let's go through examples to understand the syntax more precisely."
      ]
    },
    {
      "metadata": {
        "id": "6ByPUUNxJcxc"
      },
      "cell_type": "markdown",
      "source": [
        "### Example 1: A Simple function without arguments"
      ]
    },
    {
      "metadata": {
        "id": "3i6O-AH3Jcxf"
      },
      "cell_type": "code",
      "source": [
        "# Function definition is here\n",
        "def hello():\n",
        "    print('Hello World! Welcome to the function')"
      ],
      "execution_count": null,
      "outputs": []
    },
    {
      "metadata": {
        "id": "d0KsFhmxJcxm"
      },
      "cell_type": "markdown",
      "source": [
        "Calling the function"
      ]
    },
    {
      "metadata": {
        "id": "ja49MJE5Jcxn"
      },
      "cell_type": "code",
      "source": [
        "hello()"
      ],
      "execution_count": null,
      "outputs": []
    },
    {
      "metadata": {
        "id": "2WlB32zBJcxv"
      },
      "cell_type": "markdown",
      "source": [
        "### Example 2: A simple greeting function with one argument.\n",
        "Let's write a function that accept one input name as an argument"
      ]
    },
    {
      "metadata": {
        "id": "X4_sROmQJcxy"
      },
      "cell_type": "code",
      "source": [
        "# Function definition is here\n",
        "def greeting(name):\n",
        "    print('Hello %s' %name)"
      ],
      "execution_count": null,
      "outputs": []
    },
    {
      "metadata": {
        "id": "DJxdYt4eJcx4"
      },
      "cell_type": "code",
      "source": [
        "greeting('Mike')"
      ],
      "execution_count": null,
      "outputs": []
    },
    {
      "metadata": {
        "id": "e85y4C8qJcx_"
      },
      "cell_type": "markdown",
      "source": [
        "### Example 3: Function with more than one argument."
      ]
    },
    {
      "metadata": {
        "collapsed": true,
        "id": "ZY9E6sPJJcyA"
      },
      "cell_type": "code",
      "source": [
        "# Function definition is here\n",
        "def printinformation(yourname,age,email):\n",
        "    '''This function takes your name, age, and email is as an input and print all the information'''\n",
        "    print(\"Name :\", yourname)\n",
        "    print (\"Age :\", age)\n",
        "    print (\"Email :\",email)\n",
        "    return"
      ],
      "execution_count": null,
      "outputs": []
    },
    {
      "metadata": {
        "scrolled": true,
        "id": "5A-rtdimJcyI"
      },
      "cell_type": "code",
      "source": [
        "# Now you can call printinformation function\n",
        "printinformation(age=50, yourname=\"aaa\",email=\"aaa@uts.edu.au\" )"
      ],
      "execution_count": null,
      "outputs": []
    },
    {
      "metadata": {
        "id": "OC_O5UVRJcyP"
      },
      "cell_type": "markdown",
      "source": [
        "### Example 4: (Default argument) Function with more than one arguments"
      ]
    },
    {
      "metadata": {
        "collapsed": true,
        "id": "PX6fNY64JcyQ"
      },
      "cell_type": "code",
      "source": [
        "# Function definition is here\n",
        "def printinformation(yourname,email,age=35):\n",
        "    '''This function takes your age as a default argument, and your name and email as an input and print all the information'''\n",
        "    print(\"Name: \", yourname)\n",
        "    print (\"Age: \", age)\n",
        "    print (\"Email:\",email)\n",
        "    return"
      ],
      "execution_count": null,
      "outputs": []
    },
    {
      "metadata": {
        "id": "umgb61b1JcyW"
      },
      "cell_type": "code",
      "source": [
        "# Now you can call printinformation function\n",
        "printinformation(age=50, yourname=\"aaa\",email=\"aaa@uts.edu.au\" )"
      ],
      "execution_count": null,
      "outputs": []
    },
    {
      "metadata": {
        "id": "Pctf7LNKJcye"
      },
      "cell_type": "code",
      "source": [
        "printinformation(yourname=\"bbb\",email=\"bbb@uts.edu.au\")"
      ],
      "execution_count": null,
      "outputs": []
    },
    {
      "metadata": {
        "id": "CRhZxtf2Jcyl"
      },
      "cell_type": "markdown",
      "source": [
        "### Example 5: Using return statement\n",
        "\n",
        "The following example will return a value after the function execution using a `return` statement.\n"
      ]
    },
    {
      "metadata": {
        "collapsed": true,
        "id": "mj9uRFI_Jcyl"
      },
      "cell_type": "code",
      "source": [
        "def add_num(num1,num2,num3):\n",
        "    return num1+num2+num3"
      ],
      "execution_count": null,
      "outputs": []
    },
    {
      "metadata": {
        "id": "ngDFBSyXJcyq"
      },
      "cell_type": "code",
      "source": [
        "add_num(4,5,6)"
      ],
      "execution_count": null,
      "outputs": []
    },
    {
      "metadata": {
        "collapsed": true,
        "id": "54rpTcS9Jcyy"
      },
      "cell_type": "code",
      "source": [
        "# Storing the data in a variable after the return of the value from the function.\n",
        "result = add_num(4,5,6)"
      ],
      "execution_count": null,
      "outputs": []
    },
    {
      "metadata": {
        "id": "Ys_lh4MzJcy4"
      },
      "cell_type": "code",
      "source": [
        "print(result)"
      ],
      "execution_count": null,
      "outputs": []
    },
    {
      "metadata": {
        "id": "ygFJcWv-Jcy8"
      },
      "cell_type": "markdown",
      "source": [
        "Let us see what happens when we try to input strings instead of integers in the same function."
      ]
    },
    {
      "metadata": {
        "id": "g7HGy3IIJcy_"
      },
      "cell_type": "code",
      "source": [
        "print(\"result1 =\",add_num('one ','two ','three '))"
      ],
      "execution_count": null,
      "outputs": []
    },
    {
      "metadata": {
        "id": "eqnrOAeQJczL"
      },
      "cell_type": "markdown",
      "source": [
        "It is interesting to note that this function concatenated three strings instead of showing error. There can be a check condition implemented for arguments to have a correct behavior of the function. For instance:\n",
        "```\n",
        "print(isinstance(25,int))\n",
        "\n",
        "```\n",
        "Lets execute this small code."
      ]
    },
    {
      "metadata": {
        "id": "yGZlgvpKJczM"
      },
      "cell_type": "code",
      "source": [
        "# Feel free to change the \"Hello\" into some other value such as float (3.40) or int (45).\n",
        "print(isinstance(\"Hello\",str))"
      ],
      "execution_count": null,
      "outputs": []
    },
    {
      "metadata": {
        "id": "lBd6VRWOJczU"
      },
      "cell_type": "markdown",
      "source": [
        "### Program for Prime or Not Prime number "
      ]
    },
    {
      "metadata": {
        "collapsed": true,
        "id": "0KqTVl61JczW"
      },
      "cell_type": "markdown",
      "source": [
        "To check a number if it is prime or not is used most commonly for the illustration of the functions.\n",
        "**Prime number: The number is prime if it is only divisible by 1 or itself.** \n",
        "Let's have a look"
      ]
    },
    {
      "metadata": {
        "collapsed": true,
        "id": "7jxnGTQVJczY"
      },
      "cell_type": "code",
      "source": [
        "def is_prime(num):\n",
        "    '''\n",
        "    A method which take input as num and determine prime or not prime \n",
        "    '''\n",
        "    for n in range(2,num):\n",
        "        if num % n == 0:\n",
        "            print('Not Prime')\n",
        "            break\n",
        "    else: # If never mod zero, then prime\n",
        "        print('Prime Number')"
      ],
      "execution_count": null,
      "outputs": []
    },
    {
      "metadata": {
        "id": "NDrGY0nDJczb"
      },
      "cell_type": "code",
      "source": [
        "is_prime(5)"
      ],
      "execution_count": null,
      "outputs": []
    },
    {
      "metadata": {
        "id": "CoZXll9mJczi"
      },
      "cell_type": "markdown",
      "source": [
        "Note how we break the code after the print statement! We can actually improve this by only checking to the square root of the target number, also we can disregard all the even numbers after checking for 2. We'll also switch to returning a boolean value to get an example of using return statements:"
      ]
    },
    {
      "metadata": {
        "collapsed": true,
        "id": "1eDXPgPfJczm"
      },
      "cell_type": "code",
      "source": [
        "import math\n",
        "\n",
        "def is_prime(num):\n",
        "    '''\n",
        "    Better method of checking for primes. \n",
        "    '''\n",
        "    if num % 2 == 0 and num > 2: \n",
        "        return False\n",
        "    for i in range(3, int(math.sqrt(num)) + 1, 2):\n",
        "        if num % i == 0:\n",
        "            return False\n",
        "    return True"
      ],
      "execution_count": null,
      "outputs": []
    },
    {
      "metadata": {
        "id": "CtBCUd0NJczu"
      },
      "cell_type": "code",
      "source": [
        "is_prime(14)"
      ],
      "execution_count": null,
      "outputs": []
    },
    {
      "metadata": {
        "id": "_QlgK-p3Jczx"
      },
      "cell_type": "markdown",
      "source": [
        "Great! You should now have a basic understanding of creating your own functions to save yourself from repeatedly writing code!"
      ]
    },
    {
      "metadata": {
        "id": "7rc9aL_hJczy"
      },
      "cell_type": "markdown",
      "source": [
        "## 2. Methods\n",
        "**Always remember that in python everything is a object**.\n",
        "A function that belong to python object is called a **method**. The type of methods associated with the object depend upon the type of the object. For instance, string object will have different method than float ,boolean, or interger.\n",
        "Let's practice with few simple examples"
      ]
    },
    {
      "metadata": {
        "id": "2LnHOiQ6Jcz0"
      },
      "cell_type": "markdown",
      "source": [
        "### Example 1: Index Method "
      ]
    },
    {
      "metadata": {
        "collapsed": true,
        "id": "igh8I_BwJcz2"
      },
      "cell_type": "code",
      "source": [
        "# Define a list\n",
        "personal_info=[\"mike\",30,\"tom\",40]"
      ],
      "execution_count": null,
      "outputs": []
    },
    {
      "metadata": {
        "id": "qex1-0TgJcz6"
      },
      "cell_type": "code",
      "source": [
        "# Here index is a method which is called for the list object personal_info\n",
        "personal_info.index(\"mike\")"
      ],
      "execution_count": null,
      "outputs": []
    },
    {
      "metadata": {
        "id": "Hxu6zg1QJcz-"
      },
      "cell_type": "markdown",
      "source": [
        "### Example 2: Capitalize the first letter "
      ]
    },
    {
      "metadata": {
        "id": "fBBl95dWJc0A"
      },
      "cell_type": "code",
      "source": [
        "# In python there are number of object such as strings, bool, and int etc are associated with their respective methods\n",
        "# lets take an example of string\n",
        "mystring=\"university of technology sydney\"\n",
        "mystring.capitalize()  # first letter of the string is capatilized"
      ],
      "execution_count": null,
      "outputs": []
    },
    {
      "metadata": {
        "id": "xqKu2hzRJc0D"
      },
      "cell_type": "code",
      "source": [
        "mystring.replace(\"sydney\", \"SYDNEY\")"
      ],
      "execution_count": null,
      "outputs": []
    },
    {
      "metadata": {
        "id": "V-JmxeK4Jc0E"
      },
      "cell_type": "markdown",
      "source": [
        "### Task 1: \n",
        "Rewrite your pay computation with time-and-a-half for overtime and create a function called `computepay` which takes two parameters (hours and rate).\n",
        "Enter Hours: 45\n",
        "Enter Rate: 10\n",
        "Pay: 475.0"
      ]
    },
    {
      "metadata": {
        "id": "mOjsbHZJJc0F"
      },
      "cell_type": "code",
      "source": [
        "# define the function computepay here.\n",
        "def computepay(hours, rate):\n",
        "    '''This program computes the salary of an employee. It takes two arguments hours and rate to determine \n",
        "       the result'''\n",
        "    if hours > 40:\n",
        "        # Calculating pay after 40 hours (overtime) \n",
        "        # Calculating pay for 40 hours\n",
        "        # Adding both the pays \n",
        "    \n",
        "    else:\n",
        "         # No overtime calculation\n",
        "    \n",
        "     # Returning the total amount"
      ],
      "execution_count": null,
      "outputs": []
    },
    {
      "metadata": {
        "id": "ZcfFT2g3Jc0H"
      },
      "cell_type": "code",
      "source": [
        "# call the function here.\n",
        "result = computepay(45, 10) # Calling the function, giving values to the argument and storing the result in result\n",
        "print(result) # printing the result"
      ],
      "execution_count": null,
      "outputs": []
    },
    {
      "metadata": {
        "id": "3KAlX5ZZJc0J"
      },
      "cell_type": "markdown",
      "source": [
        "### Task 2: \n",
        "Write a function `calculator` for two arguments with following functionalities\n",
        "```python\n",
        "+   -   *   /   **   %   //\n",
        "```"
      ]
    },
    {
      "metadata": {
        "collapsed": true,
        "id": "p8cLh3XyJc0K"
      },
      "cell_type": "code",
      "source": [
        "# define the function calculator here.\n",
        "def calculator(operator1, operand, operator2):\n",
        "    \n",
        "    ''' This program calculates the result of 2 operators with an operand in between. It takes 2 variables\n",
        "        2 operators and 1 operand as arguments.\n",
        "    '''\n",
        "    if operand == '+': # if statement checks whether the operand is '+' addition or not\n",
        "        result = operator1 + operator2 # result is calculated by adding the operator1 and operator2\n",
        "    \n",
        "    elif operand == '-': # checks whether the operand is '-' subtraction or not\n",
        "         # result is determied by subtracting the operator1 and operator2\n",
        "    \n",
        "    elif operand == '*': # checks whether the operand is '*' multiplication or not\n",
        "        # result is deduced by multiplying the operator1 and operator2\n",
        "    \n",
        "    elif operand == '/': # checks whether the operand is '/' division or not\n",
        "        # result is caluclated by dividing the operator1 with operator2\n",
        "    \n",
        "    else: \n",
        "        result = \"Please enter the correct operand\" \n",
        "    \n",
        "    return ()"
      ],
      "execution_count": null,
      "outputs": []
    },
    {
      "metadata": {
        "id": "pN5xMDTaJc0N"
      },
      "cell_type": "code",
      "source": [
        "# call the function here.\n",
        "finalresult = calculator(1, '-', 3) # Calls the function calculator and stores the return result in the finalresult\n",
        "print (finalresult) # Print the final result."
      ],
      "execution_count": null,
      "outputs": []
    },
    {
      "metadata": {
        "id": "xAjRuQAnJc0R"
      },
      "cell_type": "markdown",
      "source": [
        "### Task 3: "
      ]
    },
    {
      "metadata": {
        "id": "nlFRLxqJJc0T"
      },
      "cell_type": "markdown",
      "source": [
        "Write a program to roll a dice number of times and prints the result. Number is decided by the user.\n",
        "Process:\n",
        "- import the library in the cell. Write \"import random\".\n",
        "- Create a definition in the next cell called \"def rolldice\".\n",
        "- Before creating a while loop, create a variable 'i' and initialize a value 1 to it.\n",
        "- Create a while loop.\n",
        "- In the while loop use \"random.randint(1,6)\" to generate random integer between 1 and 6 inclusive.\n",
        "- Print the result"
      ]
    },
    {
      "metadata": {
        "collapsed": true,
        "id": "Xgu-axxbJc0T"
      },
      "cell_type": "code",
      "source": [
        "# Please write \"import random\" in this cell\n",
        "import random"
      ],
      "execution_count": null,
      "outputs": []
    },
    {
      "metadata": {
        "collapsed": true,
        "id": "rIJCjspWJc0Y"
      },
      "cell_type": "code",
      "source": [
        "# Write the definition in this cell\n",
        "def rolldice(numofrolls):\n",
        "    \"\"\" This program rolls a dice and returns a random result.\"\"\"\n",
        "    i = 1 # Creating a variable i and setting up an intial value of 1.\n",
        "    while(i<=numofrolls): # Checking the number of rolls with while loop\n",
        "        dice = random.randint(1,6) # Generating a random integer with the randint function\n",
        "        print('Roll =  %d and Result = %d' %(i,dice)) # Printing the Roll number and the associated result\n",
        "        i = i+1 # Incrementing the value of i so that Roll Number increases, we want the loop to get out\n",
        "    return(dice)"
      ],
      "execution_count": null,
      "outputs": []
    },
    {
      "metadata": {
        "scrolled": true,
        "id": "nTOmqFtzJc0a"
      },
      "cell_type": "code",
      "source": [
        "# Call the function here\n",
        "rolldice(10)"
      ],
      "execution_count": null,
      "outputs": []
    },
    {
      "metadata": {
        "id": "IS_TVtNkJc0c"
      },
      "cell_type": "markdown",
      "source": [
        "### References\n",
        "\n",
        "1. _Python for Everybody: Exploring Data Using Python 3_ (2016). Charles R. Severance. [PDF available](http://do1.dr-chuck.com/pythonlearn/EN_us/pythonlearn.pdf)\n",
        "\n",
        "2. https://www.tutorialspoint.com/python/python_functions.htm"
      ]
    },
    {
      "metadata": {
        "id": "bTOuKUTZJc0f"
      },
      "cell_type": "markdown",
      "source": [
        "### Functions and methods are very important and we will be using them frequently in the future !"
      ]
    },
    {
      "cell_type": "markdown",
      "source": [
        ""
      ],
      "metadata": {
        "id": "9HNOByX5JNub"
      }
    },
    {
      "metadata": {
        "id": "FttbBrT-JLhk"
      },
      "cell_type": "markdown",
      "source": [
        "# Dictionaries in Python"
      ]
    },
    {
      "metadata": {
        "id": "gMHFXh-vJLhp"
      },
      "cell_type": "markdown",
      "source": [
        "### What are Dictionaries?\n",
        "A Python dictionary is a built-in data type which consists of a key and an associated value. Dictionaries are indexed by *key*. In simple terms, a dictionary is a set of *key : value* pairs, where *key* has to be unique. The value can be almost any Python object. \n",
        "\n",
        "In this section we will discuss about **dictionaries** in details which is an important data structure in python.\n"
      ]
    },
    {
      "metadata": {
        "id": "unVTznMiJLhu"
      },
      "cell_type": "markdown",
      "source": [
        "## Real-World Example"
      ]
    },
    {
      "metadata": {
        "id": "o83-2YQMJLhx"
      },
      "cell_type": "markdown",
      "source": [
        "The real-world example could be phone book in which contact names act as key and their corresponding phone number as value. Phone books allow you to quickly retrieve the information (phone number) associated with a given key (a person’s name). So, instead of having to read a phone book front to back in order to find someone’s number, you can jump more or less directly to a name and look up the associated information. \n",
        "\n",
        "\n",
        "Dictionaries allow you to quickly find the information associated with a given key. Dictionaries are mutable, which means they can be changed. The values that the keys point to can be any Python value. Dictionaries are unordered, so the order that the keys are added doesn't necessarily reflect what order they may be reported back.\n",
        "\n",
        "\n",
        "In summary, dictionaries are one of the most frequently used and most important data structures in computer science. So, how does Python handle dictionaries? Let’s take a tour of the dictionary implementations available in core Python and the Python standard library."
      ]
    },
    {
      "metadata": {
        "id": "kYBAtX1pJLh0"
      },
      "cell_type": "markdown",
      "source": [
        "## Outline"
      ]
    },
    {
      "metadata": {
        "id": "ojJ74s0PJLh1"
      },
      "cell_type": "markdown",
      "source": [
        "The following will be discussed in this section:\n",
        "\n",
        "    1) Constructing and accessing objects (values) from dictionary\n",
        "    2) Add a value to the dictionary\n",
        "    3) Remove a key and it's value\n",
        "    4) Check the length of dictionary and test the dictionary\n",
        "    5) Various ways to print all the keys and values \n",
        "    6) Sorting the dictionary\n",
        "    7) Nesting Dictionaries\n",
        "    8) Merging Dictionaries"
      ]
    },
    {
      "metadata": {
        "id": "S5r5AVrTJLh4"
      },
      "cell_type": "markdown",
      "source": [
        "### 1. Constructing a Dictionary and accessing objects (values) from dictionary\n",
        "Let's see how we can construct dictionaries to get a better understanding of how they work!"
      ]
    },
    {
      "metadata": {
        "id": "RytX6ziqJLh6"
      },
      "cell_type": "code",
      "source": [
        "# Creating a dictionary with '{}' curly brackets  and ':' colon to signify a key and a value\n",
        "my_dict = {'key1':'value1','key2':'value2'}"
      ],
      "execution_count": null,
      "outputs": []
    },
    {
      "metadata": {
        "scrolled": true,
        "id": "TzEIdDhbJLiC",
        "outputId": "ad0ac020-d0eb-4203-807d-dee03a35ff8c"
      },
      "cell_type": "code",
      "source": [
        "# Print values by their key using '[]' square brackets to index it.\n",
        "print(my_dict['key1'])"
      ],
      "execution_count": null,
      "outputs": [
        {
          "output_type": "stream",
          "text": [
            "value1\n"
          ],
          "name": "stdout"
        }
      ]
    },
    {
      "metadata": {
        "id": "OBeUI44PJLiK"
      },
      "cell_type": "markdown",
      "source": [
        "We can also create keys by assignment. For instance, if we started off with an empty dictionary, we could continually add data to it:"
      ]
    },
    {
      "metadata": {
        "id": "aZavWRZjJLiQ"
      },
      "cell_type": "code",
      "source": [
        "# Create a new dictionary\n",
        "d = {}"
      ],
      "execution_count": null,
      "outputs": []
    },
    {
      "metadata": {
        "id": "RjfhxwmnJLiX"
      },
      "cell_type": "code",
      "source": [
        "# Create a new key through assignment\n",
        "d['animal'] = 'Dog' # Here animal is the 'Key' and Dog is the 'value'"
      ],
      "execution_count": null,
      "outputs": []
    },
    {
      "metadata": {
        "id": "_18pGDhvJLih"
      },
      "cell_type": "code",
      "source": [
        "# Can do this with any object\n",
        "d['answer'] = 42 # Here answer is the 'Key' and 42 is the 'value'"
      ],
      "execution_count": null,
      "outputs": []
    },
    {
      "metadata": {
        "id": "C-XaQiPmJLio",
        "outputId": "1f9f52b7-9075-4b64-fbda-21014cc315e3"
      },
      "cell_type": "code",
      "source": [
        "# Print the keys and values of the variable d\n",
        "print(d)"
      ],
      "execution_count": null,
      "outputs": [
        {
          "output_type": "stream",
          "text": [
            "{'animal': 'Dog', 'answer': 42}\n"
          ],
          "name": "stdout"
        }
      ]
    },
    {
      "metadata": {
        "id": "GJNV2JmeJLi0"
      },
      "cell_type": "code",
      "source": [
        "# Now lets take a practical example and create a phone book:\n",
        "phonebook = {'Shamsheer':487723456, \\\n",
        "'Saqib':409238403, 'Nabin':476230945, \\\n",
        "'Michael':482723144}"
      ],
      "execution_count": null,
      "outputs": []
    },
    {
      "metadata": {
        "id": "PsyOYT0ZJLi4",
        "outputId": "55cf1344-ddca-421f-bcc6-f9a7f63bc543"
      },
      "cell_type": "code",
      "source": [
        "# Now lets print the phonebook\n",
        "print(phonebook)"
      ],
      "execution_count": null,
      "outputs": [
        {
          "output_type": "stream",
          "text": [
            "{'Nabin': 476230945, 'Saqib': 409238403, 'Michael': 482723144, 'Shamsheer': 487723456}\n"
          ],
          "name": "stdout"
        }
      ]
    },
    {
      "metadata": {
        "id": "C1xLRM4ZJLi-",
        "outputId": "2a067a04-9010-4733-ec2c-a3b5506cff67"
      },
      "cell_type": "code",
      "source": [
        "# If you want to search a Phone Number of a specific person. Please make sure that the Keys are unique.\n",
        "phonebook['Shamsheer']"
      ],
      "execution_count": null,
      "outputs": [
        {
          "output_type": "execute_result",
          "data": {
            "text/plain": [
              "487723456"
            ]
          },
          "metadata": {
            "tags": []
          },
          "execution_count": 9
        }
      ]
    },
    {
      "metadata": {
        "id": "AkdG3SL1JLjH"
      },
      "cell_type": "markdown",
      "source": [
        "### 2. Add a value to the dictionary\n",
        "***Syntax is mydict[key]=\"value\" ***\n",
        "   \n",
        "#### Task: \"Add entry of your name with number to the phone and print the dictionary\""
      ]
    },
    {
      "metadata": {
        "id": "gowK-zXeJLjI"
      },
      "cell_type": "code",
      "source": [
        "# phonebook[]= your id\n",
        "\n",
        "# print the dictionary\n"
      ],
      "execution_count": null,
      "outputs": []
    },
    {
      "metadata": {
        "id": "5IuE7SFlJLjP"
      },
      "cell_type": "markdown",
      "source": [
        "### 3. Remove a key and it's value\n",
        "***Syntax is del mydict[key]***"
      ]
    },
    {
      "metadata": {
        "id": "YnD5rpWAJLjT",
        "outputId": "0627b4cd-66c6-413b-edb6-204802af5567"
      },
      "cell_type": "code",
      "source": [
        "del phonebook[\"Shamsheer\"]\n",
        "print(phonebook)"
      ],
      "execution_count": null,
      "outputs": [
        {
          "output_type": "stream",
          "text": [
            "{'Nabin': 476230945, 'Saqib': 409238403, 'Michael': 482723144}\n"
          ],
          "name": "stdout"
        }
      ]
    },
    {
      "metadata": {
        "id": "5mei-MtRJLjZ"
      },
      "cell_type": "markdown",
      "source": [
        "### 4. Check the length of dictionary and test the dictionary\n",
        "The len() function gives the number of pairs in the dictionary."
      ]
    },
    {
      "metadata": {
        "id": "a2MQ--epJLjb",
        "outputId": "d62c1977-4e9f-4b49-8eaa-600061d457f1"
      },
      "cell_type": "code",
      "source": [
        "print(len(phonebook))"
      ],
      "execution_count": null,
      "outputs": [
        {
          "output_type": "stream",
          "text": [
            "3\n"
          ],
          "name": "stdout"
        }
      ]
    },
    {
      "metadata": {
        "id": "RQ71eo7ZJLjn",
        "outputId": "63f37672-565e-40d1-e10a-97f5724441e9"
      },
      "cell_type": "code",
      "source": [
        "# Test the dictionary\n",
        "# Check if a key exists in a given dictionary by using the 'in' operator like this:\n",
        "'Shamsheer' in phonebook"
      ],
      "execution_count": null,
      "outputs": [
        {
          "output_type": "execute_result",
          "data": {
            "text/plain": [
              "False"
            ]
          },
          "metadata": {
            "tags": []
          },
          "execution_count": 13
        }
      ]
    },
    {
      "metadata": {
        "id": "-UvhCXG5JLj1",
        "outputId": "685fadff-a07d-4fbc-c1fd-ca3fa4d54935"
      },
      "cell_type": "code",
      "source": [
        "# Applying explicit looping to find a key\n",
        "for name in phonebook:\n",
        "    if \"Shamsheer\" in phonebook:\n",
        "        print(\"Key found\")\n",
        "        break\n",
        "    else:\n",
        "        print(\"Key not found\")"
      ],
      "execution_count": null,
      "outputs": [
        {
          "output_type": "stream",
          "text": [
            "Key not found\n",
            "Key not found\n",
            "Key not found\n"
          ],
          "name": "stdout"
        }
      ]
    },
    {
      "metadata": {
        "id": "cRAGSwXAJLj6"
      },
      "cell_type": "markdown",
      "source": [
        "### 5. Various ways to print all the keys and values "
      ]
    },
    {
      "metadata": {
        "id": "da3tyE55JLj8",
        "outputId": "c3f00e35-2a3b-4ab3-db5f-7dadccbc749e"
      },
      "cell_type": "code",
      "source": [
        "# Printing all the keys with the help of 'for' loop\n",
        "for key in phonebook:\n",
        "    print(key)"
      ],
      "execution_count": null,
      "outputs": [
        {
          "output_type": "stream",
          "text": [
            "Nabin\n",
            "Saqib\n",
            "Michael\n"
          ],
          "name": "stdout"
        }
      ]
    },
    {
      "metadata": {
        "id": "j3qmN_GJJLkG",
        "outputId": "4a4fb79e-053b-4b9a-da0c-3221e6ca77b3"
      },
      "cell_type": "code",
      "source": [
        "# Printing all the values with the help of 'for' loop\n",
        "for key in phonebook:\n",
        "    value= phonebook[key]\n",
        "    print(value)"
      ],
      "execution_count": null,
      "outputs": [
        {
          "output_type": "stream",
          "text": [
            "476230945\n",
            "409238403\n",
            "482723144\n"
          ],
          "name": "stdout"
        }
      ]
    },
    {
      "metadata": {
        "id": "Wf3T0AokJLkP",
        "outputId": "fbe68871-143a-4ec1-9dd5-126752e1fcd6"
      },
      "cell_type": "code",
      "source": [
        "# Printing all the Keys with the direct 'keys' function\n",
        "keys=phonebook.keys()\n",
        "print(keys)"
      ],
      "execution_count": null,
      "outputs": [
        {
          "output_type": "stream",
          "text": [
            "dict_keys(['Nabin', 'Saqib', 'Michael'])\n"
          ],
          "name": "stdout"
        }
      ]
    },
    {
      "metadata": {
        "id": "tIBnrqZYJLkX",
        "outputId": "dc01b681-f8f0-4ca1-c79d-673e64a29200"
      },
      "cell_type": "code",
      "source": [
        "# Printing all the values with the direct 'values' function\n",
        "values=phonebook.values()\n",
        "print(values)"
      ],
      "execution_count": null,
      "outputs": [
        {
          "output_type": "stream",
          "text": [
            "dict_values([476230945, 409238403, 482723144])\n"
          ],
          "name": "stdout"
        }
      ]
    },
    {
      "metadata": {
        "id": "ER0X3ws-JLkb",
        "outputId": "4a91de49-9f05-4b20-f1ec-5a397ed2584e"
      },
      "cell_type": "code",
      "source": [
        "# Printing keys and values at the same time using 'for' loop\n",
        "for key,val in phonebook.items():\n",
        "    print (key, val)"
      ],
      "execution_count": null,
      "outputs": [
        {
          "output_type": "stream",
          "text": [
            "Nabin 476230945\n",
            "Saqib 409238403\n",
            "Michael 482723144\n"
          ],
          "name": "stdout"
        }
      ]
    },
    {
      "metadata": {
        "id": "r0qMlEOEJLkj"
      },
      "cell_type": "markdown",
      "source": [
        "### 6. Sorting the dictionary"
      ]
    },
    {
      "metadata": {
        "id": "0rdis_k7JLkl",
        "outputId": "41b60ee2-4ecd-430a-90b8-89d4adafece4"
      },
      "cell_type": "code",
      "source": [
        "#Before sorting\n",
        "for key, value in phonebook.items():\n",
        "    print(key,value)\n",
        "    \n",
        "print(\"********************\")\n",
        "\n",
        "# After Sorting. The 'sorted' function can be directly used with the dictionary to sort the data in an \n",
        "# alphabetical order.\n",
        "for key, value in sorted(phonebook.items()):\n",
        "    print (key, value)"
      ],
      "execution_count": null,
      "outputs": [
        {
          "output_type": "stream",
          "text": [
            "Nabin 476230945\n",
            "Saqib 409238403\n",
            "Michael 482723144\n",
            "********************\n",
            "Michael 482723144\n",
            "Nabin 476230945\n",
            "Saqib 409238403\n"
          ],
          "name": "stdout"
        }
      ]
    },
    {
      "metadata": {
        "id": "OK42NO0WJLkp"
      },
      "cell_type": "markdown",
      "source": [
        "### 7. Nesting Dictionaries"
      ]
    },
    {
      "metadata": {
        "id": "JnpjX5QwJLkq"
      },
      "cell_type": "markdown",
      "source": [
        "It is important to note that dictionaries are very flexible in the data types they can hold.\n",
        "For instance:"
      ]
    },
    {
      "metadata": {
        "id": "IRfXBrBaJLkt"
      },
      "cell_type": "code",
      "source": [
        "# Here 123 is an integer, [12, 23, 33] is an integer array, and ['item0','item1','item2'] is a string array.\n",
        "my_dict = {'key1':123,'key2':[12,23,33],'key3':['item0','item1','item2']}"
      ],
      "execution_count": null,
      "outputs": []
    },
    {
      "metadata": {
        "id": "cS8QMyFiJLky",
        "outputId": "9b84073d-0fba-4709-db30-19ef37d5a4de"
      },
      "cell_type": "code",
      "source": [
        "# Lets call all the items from the dictionary.\n",
        "my_dict['key3']"
      ],
      "execution_count": null,
      "outputs": [
        {
          "output_type": "execute_result",
          "data": {
            "text/plain": [
              "['item0', 'item1', 'item2']"
            ]
          },
          "metadata": {
            "tags": []
          },
          "execution_count": 22
        }
      ]
    },
    {
      "metadata": {
        "id": "wCLz1iLDJLk4",
        "outputId": "ef7df904-d13d-4062-a418-c6be3d462dc0"
      },
      "cell_type": "code",
      "source": [
        "# Lets call only one value instead of all items from the key3.\n",
        "my_dict['key3'][0]"
      ],
      "execution_count": null,
      "outputs": [
        {
          "output_type": "execute_result",
          "data": {
            "text/plain": [
              "'item0'"
            ]
          },
          "metadata": {
            "tags": []
          },
          "execution_count": 23
        }
      ]
    },
    {
      "metadata": {
        "id": "FA9lWGnTJLk7",
        "outputId": "f724b71f-f352-43e9-fd56-fc2a29be7ada"
      },
      "cell_type": "code",
      "source": [
        "# Lets apply methods on that value.\n",
        "my_dict['key3'][0].upper()"
      ],
      "execution_count": null,
      "outputs": [
        {
          "output_type": "execute_result",
          "data": {
            "text/plain": [
              "'ITEM0'"
            ]
          },
          "metadata": {
            "tags": []
          },
          "execution_count": 24
        }
      ]
    },
    {
      "metadata": {
        "id": "sKz2vhHlJLlA"
      },
      "cell_type": "markdown",
      "source": [
        "**Similary we can apply this method on our phonebook example.**"
      ]
    },
    {
      "metadata": {
        "id": "6vZ5w7BbJLlB",
        "outputId": "b5b6d587-5f96-418f-a885-1c2389efa165"
      },
      "cell_type": "code",
      "source": [
        "# Lets add another user having name Tom with its phone number and email address\n",
        "phonebook['Tom']=[485630183, 'tom@uts.edu.au']\n",
        "for keys,values in phonebook.items():\n",
        "    print(keys,values)"
      ],
      "execution_count": null,
      "outputs": [
        {
          "output_type": "stream",
          "text": [
            "Nabin 476230945\n",
            "Saqib 409238403\n",
            "Tom [485630183, 'tom@uts.edu.au']\n",
            "Michael 482723144\n"
          ],
          "name": "stdout"
        }
      ]
    },
    {
      "metadata": {
        "id": "XZeSux_yJLlF"
      },
      "cell_type": "markdown",
      "source": [
        "#### Task: \"Create a phonebook and add contact details of 3 friends and print it.\""
      ]
    },
    {
      "metadata": {
        "id": "Jrbir8_FJLlG"
      },
      "cell_type": "code",
      "source": [
        "# phonebook[] = [phonenumber, 'email-id']\n",
        "\n",
        "# Use one of the methods mentioned above to print the keys and values of the dictionary.\n"
      ],
      "execution_count": null,
      "outputs": []
    },
    {
      "metadata": {
        "id": "nVF-PWjjJLlJ"
      },
      "cell_type": "markdown",
      "source": [
        "### 8. Merging Dictionaries"
      ]
    },
    {
      "metadata": {
        "id": "LMiFhjHdJLlK"
      },
      "cell_type": "markdown",
      "source": [
        "How about concatenating dictionaries!\n",
        "\n",
        "The update() method merges the keys and values of one dictionary into another and overwrites values of the same key.\n",
        "\n",
        "**Example:**"
      ]
    },
    {
      "metadata": {
        "id": "QObP8IcMJLlL"
      },
      "cell_type": "code",
      "source": [
        "# Task: Create two Dictionaries\n",
        "phonebook1 = {'Shamsheer':880633667, \\\n",
        "'Saqib':678434645, 'Nabin':765834409, \\\n",
        "'Michael':112234523}\n",
        "\n",
        "phonebook2 = {'Robert':34056616, \\\n",
        "'Saqib':678434673, 'Nabin':765834448, \\\n",
        "'Smith':982256526}"
      ],
      "execution_count": null,
      "outputs": []
    },
    {
      "metadata": {
        "id": "YgPoFjqTJLlR",
        "outputId": "b80c5144-20f1-42c3-a80b-691b1ff0e4d3"
      },
      "cell_type": "code",
      "source": [
        "# Write the code to show the dictionary contents:\n",
        "print (phonebook1)\n",
        "print (phonebook2)"
      ],
      "execution_count": null,
      "outputs": [
        {
          "output_type": "stream",
          "text": [
            "{'Nabin': 765834409, 'Saqib': 678434645, 'Michael': 112234523, 'Shamsheer': 880633667}\n",
            "{'Smith': 982256526, 'Nabin': 765834448, 'Robert': 34056616, 'Saqib': 678434673}\n"
          ],
          "name": "stdout"
        }
      ]
    },
    {
      "metadata": {
        "scrolled": true,
        "id": "iT1cOBE_JLlY",
        "outputId": "fb87b704-b404-4949-a404-e30f554e67d8"
      },
      "cell_type": "code",
      "source": [
        "# Lets merge them together!\n",
        "# Syntax: dictionay1.update(dictionary2)\n",
        "# Give it try!\n",
        "\n",
        "phonebook1.update(phonebook2)\n",
        "print(phonebook1)"
      ],
      "execution_count": null,
      "outputs": [
        {
          "output_type": "stream",
          "text": [
            "{'Smith': 982256526, 'Michael': 112234523, 'Saqib': 678434673, 'Robert': 34056616, 'Shamsheer': 880633667, 'Nabin': 765834448}\n"
          ],
          "name": "stdout"
        }
      ]
    },
    {
      "metadata": {
        "id": "M0MhyF0HJLlc"
      },
      "cell_type": "markdown",
      "source": [
        "\n",
        "\n",
        "### References\n",
        "\n",
        "1. _Python for Everybody: Exploring Data Using Python 3_ (2016). Charles R. Severance. [PDF available](http://do1.dr-chuck.com/pythonlearn/EN_us/pythonlearn.pdf)\n",
        "2. https://www.tutorialspoint.com/python/python_dictionary.htm"
      ]
    },
    {
      "metadata": {
        "id": "UzWGGmKHJLld"
      },
      "cell_type": "markdown",
      "source": [
        "### Hopefully we now have a good basic understanding of how to construct dictionaries. "
      ]
    }
  ]
}